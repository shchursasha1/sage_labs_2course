{
 "cells": [
  {
   "cell_type": "markdown",
   "id": "088d0c68-43d4-421c-bdda-91b406d863ba",
   "metadata": {},
   "source": [
    "# Лабораторна робота 3. Групи, порядок елемента в групі\n",
    "\n",
    "_Примітка_: наведений код є лише одним з можливих шаблонів виконання. Можете писати по-своєму, але розділяйте свій код на функції, щоб їх можна було простіше перевіряти.\n",
    "\n",
    "## Завдання 1. \n",
    "\n",
    "__Задайте групи $D_{10}$, $Z_{16}$, $A_5$, $SL(2, \\mathbb{Z}_3)$*. Для кожної з них виведіть таблицю Келі, знайдіть порядок групи, перевірте чи група абелева. Перевірте чи будуть ізоморфними групи $SL(2, Z_3)$ та $D_{12}$.__\n",
    "\n",
    "*: група матриць 2х2 з визначником 1 над полем $\\mathbb{Z}_3$"
   ]
  },
  {
   "cell_type": "code",
   "execution_count": 1,
   "id": "8411013e-cb5f-4276-9113-e0bf1a966b4f",
   "metadata": {},
   "outputs": [
    {
     "name": "stdout",
     "output_type": "stream",
     "text": [
      "Група D10:\n",
      "Порядок: 20\n",
      "Чи є абелевою: False\n",
      "\n",
      "Група Z16:\n",
      "Порядок: 16\n",
      "Чи є абелевою: True\n",
      "\n",
      "Група A5:\n",
      "Порядок: 60\n",
      "Чи є абелевою: False\n",
      "\n",
      "Група SL(2, Z3):\n",
      "Порядок: 24\n",
      "Чи є абелевою: False\n",
      "\n",
      "Чи є групи SL(2, Z3) та D12 ізоморфними: False\n"
     ]
    }
   ],
   "source": [
    "# Група D_10\n",
    "D10 = DihedralGroup(10)\n",
    "print(\"Група D10:\")\n",
    "print(\"Порядок:\", D10.order())\n",
    "print(\"Чи є абелевою:\", D10.is_abelian())\n",
    "D10.cayley_table()\n",
    "\n",
    "# Група Z_16\n",
    "Z16 = IntegerModRing(16)\n",
    "GZ16 = AbelianGroup([16])\n",
    "print(\"\\nГрупа Z16:\")\n",
    "print(\"Порядок:\", GZ16.order())\n",
    "print(\"Чи є абелевою:\", GZ16.is_abelian())\n",
    "GZ16.cayley_table()\n",
    "\n",
    "# Група A_5\n",
    "A5 = AlternatingGroup(5)\n",
    "print(\"\\nГрупа A5:\")\n",
    "print(\"Порядок:\", A5.order())\n",
    "print(\"Чи є абелевою:\", A5.is_abelian())\n",
    "A5.cayley_table()\n",
    "\n",
    "# Група SL(2, Z3)\n",
    "SL2_Z3 = SL(2, GF(3))\n",
    "print(\"\\nГрупа SL(2, Z3):\")\n",
    "print(\"Порядок:\", SL2_Z3.order())\n",
    "print(\"Чи є абелевою:\", SL2_Z3.is_abelian())\n",
    "SL2_Z3.cayley_table()\n",
    "\n",
    "# Перевірка ізоморфності SL(2, Z3) та D12\n",
    "D12 = DihedralGroup(12)\n",
    "print(\"\\nЧи є групи SL(2, Z3) та D12 ізоморфними:\", SL2_Z3.is_isomorphic(D12))\n"
   ]
  },
  {
   "cell_type": "markdown",
   "id": "101bece3-af83-4515-ba1a-e2d825b15a8d",
   "metadata": {},
   "source": [
    "## Завдання 2. \n",
    "\n",
    "__Знайдіть к-ть елементів кожного можливого порядку в групах $S_{100}$ та $A_{100}$.__\n",
    "\n",
    "-----\n",
    "___Зауваження___: вивід буде великий, збережіть його в окремий текстовий файл\n",
    "\n",
    "___Зауваження 2___: оцініть спершу к-ть елементів в групі, а потім ще раз подумайте чи варто тут писати повний перебір"
   ]
  },
  {
   "cell_type": "code",
   "execution_count": null,
   "id": "c5866f5d-ba29-40b9-af38-a4e93198f68d",
   "metadata": {},
   "outputs": [],
   "source": []
  },
  {
   "cell_type": "markdown",
   "id": "aa1ddcec-2a21-46d5-80be-ff32c79d7de8",
   "metadata": {},
   "source": [
    "## Завдання 3. \n",
    "___Для заданих натуральних $n, k$ ($1 <= n \\le 1 000 000, 1 \\le k \\le n!$) визначте чи існує в групі $S_n$ елемент порядку $k$.___\n",
    "\n",
    "----------\n",
    "\n",
    "___Зауваження:___ зверніть увагу на межі, в яких задано $n, k$. "
   ]
  },
  {
   "cell_type": "code",
   "execution_count": null,
   "id": "4a04b16b-4a63-4a64-902b-f07148aad1f7",
   "metadata": {},
   "outputs": [],
   "source": []
  },
  {
   "cell_type": "code",
   "execution_count": null,
   "id": "89dd7d0d",
   "metadata": {},
   "outputs": [],
   "source": []
  }
 ],
 "metadata": {
  "kernelspec": {
   "display_name": "SageMath 9.5",
   "language": "sage",
   "name": "sagemath"
  },
  "language_info": {
   "codemirror_mode": {
    "name": "ipython",
    "version": 3
   },
   "file_extension": ".py",
   "mimetype": "text/x-python",
   "name": "python",
   "nbconvert_exporter": "python",
   "pygments_lexer": "ipython3",
   "version": "3.10.12"
  }
 },
 "nbformat": 4,
 "nbformat_minor": 5
}
